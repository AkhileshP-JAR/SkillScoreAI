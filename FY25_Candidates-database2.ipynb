{
 "cells": [
  {
   "cell_type": "code",
   "execution_count": 11,
   "metadata": {},
   "outputs": [],
   "source": [
    "import pandas as pd\n",
    "import numpy as np\n",
    "from io import StringIO\n",
    "from sklearn.model_selection import train_test_split\n",
    "from sklearn.preprocessing import StandardScaler\n",
    "from sklearn.ensemble import RandomForestClassifier\n",
    "from sklearn.metrics import classification_report\n",
    "import pickle\n",
    "import os"
   ]
  },
  {
   "cell_type": "code",
   "execution_count": 12,
   "metadata": {},
   "outputs": [
    {
     "name": "stdout",
     "output_type": "stream",
     "text": [
      "NA values after cleaning:\n",
      "S.No                                                                0\n",
      "College Full Name                                                   0\n",
      "College City                                                        1\n",
      "Roll No / PRN                                                       2\n",
      "Prefix                                                              1\n",
      "Candidate Name                                                      0\n",
      "Gender                                                              0\n",
      "Candidate Mobile Number                                             0\n",
      "Alternate Mobile Number                                             2\n",
      "Primary Email ID (College)                                          0\n",
      "Alternate Email ID                                                  1\n",
      "10th Board%                                                         0\n",
      "12th Board%                                                         3\n",
      "Graduation Degree                                                   0\n",
      "Grad-Specialization                                                 0\n",
      "Graduation CGPA                                                     0\n",
      "Year of Graduation                                                  0\n",
      "Post Graduation Degree                                             44\n",
      "Post Grad- Specialization                                          45\n",
      "Post Graduation CGPA                                               45\n",
      "Year of Post Grad                                                  45\n",
      "Foreign Language (Except English)                                  40\n",
      "Proficiency in foreign language (Beginner / Advanced / Mastery)    41\n",
      "Permanent Home Address (Not Campus or Hostel Address)               3\n",
      "Permanent City                                                      3\n",
      "Permanent State                                                     3\n",
      "Permanent Pin Code                                                  4\n",
      "Technonlogies/Skills known                                          0\n",
      "Tech_points                                                         0\n",
      "Organization worked with (If Any) Eg: Accenture/KPMG               41\n",
      "Prior Experienced (Brief Summary of the work)                      39\n",
      "Total Experienced (In Years)                                        0\n",
      "Legal pursuit                                                      13\n",
      "Sports                                                              1\n",
      "Sports_Points                                                       0\n",
      "ExtraCurriculum                                                     0\n",
      "ExxCur_Points                                                       0\n",
      "dtype: int64\n"
     ]
    },
    {
     "name": "stderr",
     "output_type": "stream",
     "text": [
      "C:\\Users\\LENOVO\\AppData\\Local\\Temp\\ipykernel_16360\\2006308831.py:6: FutureWarning: Downcasting behavior in `replace` is deprecated and will be removed in a future version. To retain the old behavior, explicitly call `result.infer_objects(copy=False)`. To opt-in to the future behavior, set `pd.set_option('future.no_silent_downcasting', True)`\n",
      "  df.replace(na_values, np.nan, inplace=True)\n"
     ]
    }
   ],
   "source": [
    "# Load data from the actual CSV file (replace with your actual file path)\n",
    "df = pd.read_csv(\"FY25_Candidates database.csv\")\n",
    "\n",
    "# Replace various forms of NA/empty values with numpy.nan\n",
    "na_values = ['NA', 'Na', 'na', 'N/A', 'n/a', '', 'None', 'none', ' ', 'NaN', 'nan']\n",
    "df.replace(na_values, np.nan, inplace=True)\n",
    "\n",
    "# Convert specific columns to numeric, coercing errors to NaN\n",
    "numeric_cols = ['Graduation CGPA', 'Total Experienced (In Years)', '10th Board%', '12th Board%']\n",
    "for col in numeric_cols:\n",
    "    if col in df.columns:\n",
    "        df[col] = pd.to_numeric(df[col], errors='coerce')\n",
    "\n",
    "# Fill remaining NA values in key columns with appropriate defaults\n",
    "df['Graduation CGPA'] = df['Graduation CGPA'].fillna(0)\n",
    "df['Total Experienced (In Years)'] = df['Total Experienced (In Years)'].fillna(0)\n",
    "df['Technonlogies/Skills known'] = df['Technonlogies/Skills known'].fillna('')\n",
    "\n",
    "# Verify the replacements\n",
    "print(\"NA values after cleaning:\")\n",
    "print(df.isna().sum())\n"
   ]
  },
  {
   "cell_type": "code",
   "execution_count": 13,
   "metadata": {},
   "outputs": [
    {
     "name": "stdout",
     "output_type": "stream",
     "text": [
      "Mindset\n",
      "Neutral    41\n",
      "Fixed       4\n",
      "Name: count, dtype: int64\n"
     ]
    }
   ],
   "source": [
    "# Define the mindset logic with proper NaN handling\n",
    "def generate_mindset(row):\n",
    "    cgpa = row['Graduation CGPA']\n",
    "    exp = row['Total Experienced (In Years)']\n",
    "    \n",
    "    if pd.isna(cgpa) or pd.isna(exp):\n",
    "        return \"Neutral\"\n",
    "    elif cgpa >= 8 and exp >= 1:\n",
    "        return \"Growth\"\n",
    "    elif cgpa < 6:\n",
    "        return \"Fixed\"\n",
    "    else:\n",
    "        return \"Neutral\"\n",
    "\n",
    "# Apply and create the column\n",
    "df[\"Mindset\"] = df.apply(generate_mindset, axis=1)\n",
    "\n",
    "# Print mindset distribution\n",
    "print(df[\"Mindset\"].value_counts())"
   ]
  },
  {
   "cell_type": "code",
   "execution_count": 14,
   "metadata": {},
   "outputs": [
    {
     "name": "stdout",
     "output_type": "stream",
     "text": [
      "🎯 CGPA >= 8 & Experience >= 1: 0\n",
      "🛑 CGPA < 6: 4\n",
      "🟡 Else (Neutral): 45\n"
     ]
    }
   ],
   "source": [
    "print(\"🎯 CGPA >= 8 & Experience >= 1:\", df[(df[\"Graduation CGPA\"] >= 8) & (df[\"Total Experienced (In Years)\"] >= 1)].shape[0])\n",
    "print(\"🛑 CGPA < 6:\", df[df[\"Graduation CGPA\"] < 6].shape[0])\n",
    "print(\"🟡 Else (Neutral):\", df[((df[\"Graduation CGPA\"] >= 6) & (df[\"Graduation CGPA\"] < 8)) | (df[\"Total Experienced (In Years)\"] < 1)].shape[0])\n"
   ]
  },
  {
   "cell_type": "code",
   "execution_count": 15,
   "metadata": {},
   "outputs": [],
   "source": [
    "# Generate Skill Count from comma-separated skills\n",
    "df[\"Skill_Count\"] = df[\"Technonlogies/Skills known\"].apply(lambda x: len(str(x).split(',')) if pd.notnull(x) else 0)\n"
   ]
  },
  {
   "cell_type": "code",
   "execution_count": 16,
   "metadata": {},
   "outputs": [],
   "source": [
    "# Map Language Proficiency to numeric\n",
    "lang_map = {\"Beginner\": 0, \"Advanced\": 1, \"Mastery\": 2, None: 0, np.nan: 0}\n",
    "df[\"Language_Proficiency\"] = df[\"Proficiency in foreign language (Beginner / Advanced / Mastery)\"].map(lang_map).fillna(0)\n",
    "\n",
    "# Features (X) and Target (y)\n",
    "features = [\"Graduation CGPA\", \"Year of Graduation\", \"Total Experienced (In Years)\", \"Skill_Count\", \"Language_Proficiency\"]\n",
    "X = df[features].fillna(0)  # Fill remaining NA values with 0\n",
    "y = df[\"Mindset\"]\n"
   ]
  },
  {
   "cell_type": "code",
   "execution_count": 17,
   "metadata": {},
   "outputs": [],
   "source": [
    "# Split data\n",
    "X_train, X_test, y_train, y_test = train_test_split(X, y, test_size=0.2, random_state=42, stratify=y)\n",
    "\n",
    "# Scale features\n",
    "scaler = StandardScaler()\n",
    "X_train_scaled = scaler.fit_transform(X_train)\n",
    "X_test_scaled = scaler.transform(X_test)\n"
   ]
  },
  {
   "cell_type": "code",
   "execution_count": 18,
   "metadata": {},
   "outputs": [
    {
     "name": "stdout",
     "output_type": "stream",
     "text": [
      "              precision    recall  f1-score   support\n",
      "\n",
      "       Fixed       1.00      1.00      1.00         1\n",
      "     Neutral       1.00      1.00      1.00         8\n",
      "\n",
      "    accuracy                           1.00         9\n",
      "   macro avg       1.00      1.00      1.00         9\n",
      "weighted avg       1.00      1.00      1.00         9\n",
      "\n"
     ]
    }
   ],
   "source": [
    "# Train model\n",
    "mindset_model = RandomForestClassifier(random_state=42)\n",
    "mindset_model.fit(X_train_scaled, y_train)\n",
    "\n",
    "# Evaluate\n",
    "y_pred = mindset_model.predict(X_test_scaled)\n",
    "print(classification_report(y_test, y_pred))\n"
   ]
  },
  {
   "cell_type": "code",
   "execution_count": 19,
   "metadata": {},
   "outputs": [
    {
     "name": "stdout",
     "output_type": "stream",
     "text": [
      "✅ Model and scaler saved successfully.\n"
     ]
    }
   ],
   "source": [
    "# Save model - create directory if it doesn't exist\n",
    "model_path = \"models\"\n",
    "os.makedirs(model_path, exist_ok=True)\n",
    "\n",
    "with open(os.path.join(model_path, \"mindset_model.pkl\"), \"wb\") as f:\n",
    "    pickle.dump(mindset_model, f)\n",
    "\n",
    "with open(os.path.join(model_path, \"scaler.pkl\"), \"wb\") as f:\n",
    "    pickle.dump(scaler, f)\n",
    "\n",
    "print(\"✅ Model and scaler saved successfully.\")\n"
   ]
  }
 ],
 "metadata": {
  "kernelspec": {
   "display_name": "venv",
   "language": "python",
   "name": "python3"
  },
  "language_info": {
   "codemirror_mode": {
    "name": "ipython",
    "version": 3
   },
   "file_extension": ".py",
   "mimetype": "text/x-python",
   "name": "python",
   "nbconvert_exporter": "python",
   "pygments_lexer": "ipython3",
   "version": "3.12.6"
  }
 },
 "nbformat": 4,
 "nbformat_minor": 2
}
